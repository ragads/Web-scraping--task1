{
 "cells": [
  {
   "cell_type": "code",
   "execution_count": 12,
   "id": "e353c3d2",
   "metadata": {},
   "outputs": [
    {
     "name": "stdout",
     "output_type": "stream",
     "text": [
      "✅ CSV data successfully inserted into PostgreSQL!\n"
     ]
    }
   ],
   "source": [
    "import psycopg2\n",
    "import pandas as pd\n",
    "\n",
    "\n",
    "DB_CONFIG = {\n",
    "    \"dbname\": \"base_data\",  \n",
    "    \"user\": \"postgres\",\n",
    "    \"password\": \"12345678\",\n",
    "    \"host\": \"localhost\",\n",
    "    \"port\": \"5432\"\n",
    "}\n",
    "\n",
    "csv_file_path = r\"C:\\Users\\sudha\\Downloads\\easyocr (2).csv\"\n",
    "df = pd.read_csv(csv_file_path)\n",
    "\n",
    "\n",
    "conn = psycopg2.connect(**DB_CONFIG)\n",
    "cur = conn.cursor()\n",
    "\n",
    "\n",
    "cur.execute(\"\"\"\n",
    "    CREATE TABLE IF NOT EXISTS extracted_data (\n",
    "        id SERIAL PRIMARY KEY,\n",
    "        image_file TEXT,\n",
    "        extracted_text TEXT,\n",
    "        summary TEXT\n",
    "    );\n",
    "\"\"\")\n",
    "conn.commit()\n",
    "\n",
    "\n",
    "for index, row in df.iterrows():\n",
    "    cur.execute(\n",
    "        \"INSERT INTO extracted_data (image_file, extracted_text, summary) VALUES (%s, %s, %s)\",\n",
    "        (row['Image File'], row['Extracted Text'], row['Summary'])\n",
    "    )\n",
    "\n",
    "conn.commit()\n",
    "cur.close()\n",
    "conn.close()\n",
    "\n",
    "print(\"✅ CSV data successfully inserted into PostgreSQL!\")\n"
   ]
  },
  {
   "cell_type": "code",
   "execution_count": 15,
   "id": "8d986654",
   "metadata": {},
   "outputs": [
    {
     "name": "stdout",
     "output_type": "stream",
     "text": [
      "(1, 'WhatsApp Image 2025-02-24 at 22.05.27_8bce7d82.jpg', 'Blueprint House Plan | Front Door | B | Hall | Garage | Kitchen | Bathroom | Back Door | Ared | Backyard | VectorStock | VectorStock com/4900737 | Living', \"Summary of the Image: Title/Topic: Blueprint House Plan This image contains text related to 'Blueprint House Plan' and includes details about: - Front Door - B - Hall - Garage \")\n",
      "(2, 'skylab-space-station-blueprint-daniel-hagerman.jpg', \"Grge Fesupply | Enlar Anous | Cupobz | Guat | RSiuc | Teartni | Dew Vchedte | HaueiIo) Mojulcz | Modl | atlce > | UahkttuknModutc | hnenle ponca | DANT | Narattometer Scttcr | ahes | Cocung eert | Conrel Modr | Dalnieuanecnn | TrenenaN | LLerale  Inedule | Lnncn Hccnnun | Jaeneh | Staten Uehtz | ~Vbtslop Scginent | Ladon | croeali 2 | Eeda | Lltut | ut | Dana | Mertrg Modte | EJutt | Gectna | On' | Ficnlrudchi | Eennont | JlDc | Huy | EEeAL | Skylab Workshop Station | Technical | am and Elevations | Scole 1 40 | Euenrint Ko | Architoct:IJ Chryslar | Je | Dizg\", \"Summary of the Image: Title/Topic: Grge Fesupply This image contains text related to 'Grge Fesupply' and includes details about: - Enlar Anous - Cupobz - Guat - RSiuc \")\n",
      "(3, 'cubesat-image06.jpg', 'Solar sensor | Solar panel | Attitude determination | and control system | Electron cannon | (ADCS) | Electromagnet | Payload 2: Producing and | controling high voltage | (PL2) | Command and data | Antenna | handling system | (Uplink) | (CDHS) | Electrical Solar Wind | Sail | Onboard camera | (CAM) | -Tether reel motor | Electrical power | Payload 1: Tether reel motor | system (EPS) | electronics (PLI) | Tether endmass | Communication system | (COM) | Access port | Frame (STR) _ | Antenna | Side panel | (Downlink) | The structure of cubesat ESTCube-1 | and', \"Summary of the Image: Title/Topic: Solar sensor This image contains text related to 'Solar sensor' and includes details about: - Solar panel - Attitude determination - and control system - Electron cannon \")\n",
      "(4, 'd9451bacfb731b80991ab15d4561e52d.jpg', 'Low Gain Antenna 1 (LGAI) | High Gain Antenna (HGA) | Sun Sensor Head | Shunt Radiator | Radio Plasma Wave Science | Magnetometer Boom Assembly | Magnetic Search Coil | (prior to deployment) | Radio Plasma Wave Science | Langmuir Probe | (RPWS) Magnetic Search Coil | Preamplifier | Ion and Mass Neutral | 5 | Radio Frequency | Spectrometer System | Subsystem (RFS) | (INMS) | Bay 4 | Magnetometer (MAG) | Bay 7 | Radio | Subsystem; and Radio & | Frequency Instrument | Plasma Wave (RPWS) | Subsystem (RFIS) | Subsystem | Bay 6 | Radio Frequency | 08 | Stellar Reference | Subsystem (RFS) | Unit (SRU) | Cassini Plasma | Spectrometer Subsystem | (CAPS) | Reaction Wheel | Receiver Ultrastable | Oscillator (USO) Probe | Stellar Reference | Unit (SRU) 2 | Huygens Titan_ | Cosmic Dust | Probe Shield | Analyzer (CDA) | Huygens Probe Support | Avionics | Helium Tank | Pressurant Control | Assembly | RTG Shade | Thruster | RTG Shade | Cluster | Reaction Wheel | Radioisotope | Low Gain Antenna 2 | Thermoelectric | (LGA2) | Thruster | Generator (RTG) | Cluster | Deployable Cover | Cassini Diagram #1 | 54h | Titan IV Vehicle Launch Adapter | (ejected after launch) | Bay', \"Summary of the Image: Title/Topic: Low Gain Antenna 1 (LGAI) This image contains text related to 'Low Gain Antenna 1 (LGAI)' and includes details about: - High Gain Antenna (HGA) - Sun Sensor Head - Shunt Radiator - Radio Plasma Wave Science \")\n",
      "(5, 'x1LInZe.png', 'Entering the Cosmos! | Karattini Probe | Total Launch Mass: 34,645 kg | Height: 26.6 m | Width: 4.1m | Stage 1: | TWR: 2.49 | FL-T800 fuel | tank | Delta-V: 634 m/s | 2: | LV-900 | \\'Beagle | TWR: 1.56 | Thrust | 100kN | Delta-V: 1921 m/s | 325 Isp Vacuum | Stage 3: | TWR: 0.99 | Delta-V: 2055 m/s | Stage 4: | TWR: | 1.68 | Delta-V: 534 m/s | Modules: | Reflectron KR-8 | Total Delta-V: 5144 | Probodobodyne OCTO2 Probe Core | Small Inline Reacion Wheel | 4x | FL-T800 | fuel | tanks | 4x Z-400 Rechargeable Batteries | 4x OX-4L 1x5 Photovoltaic Panels | 2x ProbeSat Cube-075 Tank | Magnetometer Boom | Mkl6 parachute | Mystery Goo Containment Unit | SCAN RADAR Altimitry Sensor | PresMat Barometer | 4x Spacey | 05S | SRB | Communutron 16 | Thrust | 119 | 3kN | (Atmo) | Radial SC-9001 Science Jr Module | ISP: | 175 | (Atmo) | 2HOT Thermometer | Thrust Vectoring: | 0.50 | Orbital Telescope | CLIENT: | 1x Spacey | K1 | \"Kiwi | Engine | PROJECT: | Thrust: | 367 .4kN (Atmo) | As seen in Entering the Cosmos! Episode 13: Lucky Enough | ISP: | 255 | (Atmo) | https:] Igoo gl/JPdqrT | Thrust Vectoring: | 40 | Stage', \"Summary of the Image: Title/Topic: Entering the Cosmos! This image contains text related to 'Entering the Cosmos!' and includes details about: - Karattini Probe - Total Launch Mass: 34,645 kg - Height: 26.6 m - Width: 4.1m \")\n",
      "(6, '391540.jpg', 'X Ning | alle cror | Spacecran Contro | Froce;s | Inarila | Refetence Unic | Momantum Yhccl | AJN Llculd | Motcr | ON Thrusiet | Nlicke | I-Hydrogan Battery Colls | Sola | Vuino | Aanaraum | Ku-Eang | Tanspondars | J4ndAnton | Arri | 5812wing | So1 - | 19 Droe | Ham | Mimorco rnoacc | Pan | BandTronap | naci=', \"Summary of the Image: Title/Topic: X Ning This image contains text related to 'X Ning' and includes details about: - alle cror - Spacecran Contro - Froce;s - Inarila \")\n",
      "(7, 'mer_diagram.png', 'Navigation cameras | Mini-thermal emission | spectrometer (at rear) | Panoramic | cameras | Low-gain antenna | UHF | antenna | Solar arrays | Calibration target | High-gain antenna | Magnet array | (forward) | Alpha particle | X-ray | spectrometer | Microscopic | imager | Mossbauer | spectrometer | Rocker-bogie mobility system | Rock abrasion tool', \"Summary of the Image: Title/Topic: Navigation cameras This image contains text related to 'Navigation cameras' and includes details about: - Mini-thermal emission - spectrometer (at rear) - Panoramic - cameras \")\n",
      "(8, 'IMG001943.webp', 'CASSINI SPACECRAFT | 4m High-Gain | Low-Gain | Antenna | Antenna (1 of 2) | 11m Magnetometer | Boom | Radar | Fields and | Particles Pallet | Radio/Plasma Wave | Subsystem Antenna | (1 of 3) | Huygens | Titan Probe | Remote Sensing | Pallet | Radioisotope | Thermoelectric | Generator (1 of 3) | 445 N Engine (1 of 2) | Bay', \"Summary of the Image: Title/Topic: CASSINI SPACECRAFT This image contains text related to 'CASSINI SPACECRAFT' and includes details about: - 4m High-Gain - Low-Gain - Antenna - Antenna (1 of 2) \")\n",
      "(9, 'The-Joint-Polar-Satellite-System-JPSS-satellite-and-instruments-Graphic-courtesy-of.png', \"Ozone Mapping Profiler Suite | Eabund TDRSS Antank, | 2uis rimbal adboom dcpljed | Advanced Techrology Microwave Sounder | Cross track Infrared Sourder | Visible Infrared Imaging | Radiometer Suite | Clouds and Earth's Radiant | Energy System | Es-band SMD Antenni, 2 ri5 | gimbiladboom deplojed\", \"Summary of the Image: Title/Topic: Ozone Mapping Profiler Suite This image contains text related to 'Ozone Mapping Profiler Suite' and includes details about: - Eabund TDRSS Antank, - 2uis rimbal adboom dcpljed - Advanced Techrology Microwave Sounder - Cross track Infrared Sourder \")\n",
      "(19, 'The-Joint-Polar-Satellite-System-JPSS-satellite-and-instruments-Graphic-courtesy-of.png', \"Ozone Mapping Profiler Suite | Eabund TDRSS Antank, | 2uis rimbal adboom dcpljed | Advanced Techrology Microwave Sounder | Cross track Infrared Sourder | Visible Infrared Imaging | Radiometer Suite | Clouds and Earth's Radiant | Energy System | Es-band SMD Antenni, 2 ri5 | gimbiladboom deplojed\", \"Summary of the Image: Title/Topic: Ozone Mapping Profiler Suite This image contains text related to 'Ozone Mapping Profiler Suite' and includes details about: - Eabund TDRSS Antank, - 2uis rimbal adboom dcpljed - Advanced Techrology Microwave Sounder - Cross track Infrared Sourder \")\n"
     ]
    }
   ],
   "source": [
    "import psycopg2\n",
    "\n",
    "\n",
    "conn = psycopg2.connect(\n",
    "    dbname=\"base_data\",\n",
    "    user=\"postgres\",\n",
    "    password=\"12345678\",\n",
    "    host=\"localhost\",\n",
    "    port=\"5432\"\n",
    ")\n",
    "cur = conn.cursor()\n",
    "\n",
    "\n",
    "cur.execute(\"SELECT * FROM extracted_data LIMIT 10;\")\n",
    "rows = cur.fetchall()\n",
    "for row in rows:\n",
    "    print(row)\n",
    "\n",
    "cur.close()\n",
    "conn.close()\n"
   ]
  },
  {
   "cell_type": "code",
   "execution_count": null,
   "id": "2188afa2",
   "metadata": {},
   "outputs": [],
   "source": []
  }
 ],
 "metadata": {
  "kernelspec": {
   "display_name": "Python 3 (ipykernel)",
   "language": "python",
   "name": "python3"
  },
  "language_info": {
   "codemirror_mode": {
    "name": "ipython",
    "version": 3
   },
   "file_extension": ".py",
   "mimetype": "text/x-python",
   "name": "python",
   "nbconvert_exporter": "python",
   "pygments_lexer": "ipython3",
   "version": "3.10.9"
  }
 },
 "nbformat": 4,
 "nbformat_minor": 5
}
